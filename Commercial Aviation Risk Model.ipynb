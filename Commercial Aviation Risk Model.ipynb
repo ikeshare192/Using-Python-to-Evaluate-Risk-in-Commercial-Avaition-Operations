{
 "cells": [
  {
   "cell_type": "markdown",
   "metadata": {},
   "source": [
    "# USING PYTHON AND STATISTICAL ANALYSIS OF DISTRIBUTIONS IN FLIGHT DATA TO EVALUATE TRENDS IN RISK"
   ]
  },
  {
   "cell_type": "markdown",
   "metadata": {},
   "source": [
    "### This analysis utilizes Python to analyze distributions of flight data to identify risk in flight operations.  The data would likely come from what is called Flight Operations Quality Assurance (FOQA) data.  Since the data is comprehensive and stored with an operator, through the use of statistical models, an organization can track trends in data to identify when and where to address risk that would normally go undetected until an undesireable outcome occured.  The primary method is to establish benchmark data sets.  Then through statistical analysis of the data with Python you can determine the right course of action.  Since all commercial aircraft are operated by humans, the distribution of outcomes should be normally distributed.  The skew, and variance of that data will give you clues as to how the aircraft are being operated and will give an operator a tool to measure risk."
   ]
  },
  {
   "cell_type": "markdown",
   "metadata": {},
   "source": [
    "### Author:  Isaac Shareef\n",
    "### Date: May, 2020"
   ]
  },
  {
   "cell_type": "markdown",
   "metadata": {},
   "source": [
    "### Let's load the Python Libraries that we will need to start building a sample model."
   ]
  },
  {
   "cell_type": "code",
   "execution_count": 338,
   "metadata": {},
   "outputs": [],
   "source": [
    "import seaborn as sns\n",
    "from scipy import stats\n",
    "from scipy.stats import norm, skewnorm\n",
    "import matplotlib.pyplot as plt\n",
    "import numpy as np"
   ]
  },
  {
   "cell_type": "markdown",
   "metadata": {},
   "source": [
    "## We should first create a distribution that is centered on our benchmark to have a standard.\n",
    "\n",
    "The benchmark is set by the standard in an organizations Flight Manual, as the Flight Manual is the FAA approved standard.  Our first benchmark will be a targeted `touchdown distance of approximately 1,500 from the end of the runway with a standard deviation of +/- 250'` We will assume that this is the recommended touchdown point for a Boeing 737NG."
   ]
  },
  {
   "cell_type": "code",
   "execution_count": 461,
   "metadata": {},
   "outputs": [
    {
     "name": "stdout",
     "output_type": "stream",
     "text": [
      " The Mean of the sample data is 1502\n",
      " The Standard Deviation of the sample data is 245\n"
     ]
    }
   ],
   "source": [
    "mean = 1500 # we are shifting the mean of a normal distribution from zero to 1500 by adding a constant\n",
    "stdev = 250 # we are shifting the standard devitaion to #250 as that is an acceptable deviation\n",
    "benchmark = 1500 \n",
    "'''Create an array where each row represents 100 flights per day and each\n",
    "entry along those rows represents a recorded landing distance.  There are 30 rows\n",
    "representing 1 months of data.  Each column in the array will representa sample of one landing.\n",
    "The benchmark data set represents 3,000 landings.\n",
    "'''\n",
    "\n",
    "touchdown_pts = np.zeros((30,100)) # creates an array of 30 rows with 100 columns\n",
    "for i in range(touchdown_pts.shape[0]):\n",
    "    for j in range(touchdown_pts.shape[1]):\n",
    "        touchdown_pts[i,j] = mean +\\\n",
    "                              np.random.normal()*stdev\n",
    "\n",
    "print(f' The Mean of the sample data is {np.mean(touchdown_pts):.0f}')\n",
    "print(f' The Standard Deviation of the sample data is {np.std(touchdown_pts):.0f}')\n"
   ]
  },
  {
   "cell_type": "markdown",
   "metadata": {},
   "source": [
    "## Let's get a visual of how our benchmark data is distributed\n",
    "We should see a normal distribution in the behaivor of the sample data.  I added vertical\n",
    "lines to represent 1, 2, and 3 standard deviations."
   ]
  },
  {
   "cell_type": "code",
   "execution_count": 462,
   "metadata": {},
   "outputs": [
    {
     "data": {
      "text/plain": [
       "<matplotlib.lines.Line2D at 0x1a52e57210>"
      ]
     },
     "execution_count": 462,
     "metadata": {},
     "output_type": "execute_result"
    },
    {
     "data": {
      "image/png": "[encoded data removed]",
      "text/plain": [
       "<Figure size 864x576 with 1 Axes>"
      ]
     },
     "metadata": {
      "needs_background": "light"
     },
     "output_type": "display_data"
    }
   ],
   "source": [
    "fig, ax = plt.subplots(figsize = (12,8))\n",
    "sns.distplot(touchdown_pts, kde=False)\n",
    "#plt.legend()\n",
    "ax.set_title(\"Distribution of Landing Data\")\n",
    "ax.set_xlabel(\"Touchdown Distance\")\n",
    "ax.set_ylabel(\"Frequency\")\n",
    "plt.axvline(benchmark, color='black', linewidth = 1, linestyle = '--')\n",
    "plt.axvline(np.std(touchdown_pts)+np.mean(touchdown_pts), color = 'green', alpha = 0.8)\n",
    "plt.axvline(-1*np.std(touchdown_pts)+np.mean(touchdown_pts), color = 'green',alpha = 0.8)\n",
    "plt.axvline(-2*np.std(touchdown_pts)+np.mean(touchdown_pts), color = 'orange',alpha = 0.4)\n",
    "plt.axvline(2*np.std(touchdown_pts)+np.mean(touchdown_pts), color = 'orange',alpha = 0.4)\n",
    "plt.axvline(-3*np.std(touchdown_pts)+np.mean(touchdown_pts),color = 'red',alpha = 0.2)\n",
    "plt.axvline(3*np.std(touchdown_pts)+np.mean(touchdown_pts), color = 'red',alpha = 0.2)"
   ]
  },
  {
   "cell_type": "code",
   "execution_count": 463,
   "metadata": {},
   "outputs": [
    {
     "name": "stdout",
     "output_type": "stream",
     "text": [
      "68% of the landings should be within 1502 feet of the end of the runway +/- 245\n",
      "95% of the landings should be within 1502 feet of the end of the runway +/- 490\n",
      "99.7% of the landings should be within 1502 feet of the end of the runway +/- 736\n"
     ]
    }
   ],
   "source": [
    "print(f'68% of the landings should be within\\\n",
    " {np.mean(touchdown_pts):.0f} feet of the end of the runway\\\n",
    " +/- {np.std(touchdown_pts):.0f}')\n",
    "\n",
    "print(f'95% of the landings should be within\\\n",
    " {np.mean(touchdown_pts):.0f} feet of the end of the runway\\\n",
    " +/- {np.std(touchdown_pts*2):.0f}')\n",
    "\n",
    "print(f'99.7% of the landings should be within\\\n",
    " {np.mean(touchdown_pts):.0f} feet of the end of the runway\\\n",
    " +/- {np.std(touchdown_pts*3):.0f}')"
   ]
  },
  {
   "cell_type": "markdown",
   "metadata": {},
   "source": [
    "The above basically tells us that in the real world, since we are not perfect and human behaivor is normally distributed, that 99.7% of Boeing 737NG landings should occur within 751 of the end of the runway and 2,249.  When real data lies outside of this distribution, we should be asking why because that is the signature of increasing risk."
   ]
  },
  {
   "cell_type": "markdown",
   "metadata": {},
   "source": [
    "## Now we should plot our real data vs the benchmark distribution to see how well we are doing.\n",
    "\n",
    "Plotting real data against a benchmark will give you plenty of insights into trends that can be easily identified and you can target your training resources towards mitigating that risk.  Since we are developing an intial framework for creating the analysis and the model we will generate data from random variables."
   ]
  },
  {
   "cell_type": "code",
   "execution_count": 342,
   "metadata": {},
   "outputs": [],
   "source": [
    "#Loading the real data \n",
    "\n",
    "#data = pd.read_csv(\"/File Structure\")\n",
    "#data.shape -- this will tell us how many rows and columns that we have.  \n",
    "\n",
    "#The data should be formatted identically to our benchmark sample data"
   ]
  },
  {
   "cell_type": "code",
   "execution_count": 469,
   "metadata": {},
   "outputs": [
    {
     "name": "stdout",
     "output_type": "stream",
     "text": [
      "The Mean of the actual data is 1129 feet\n",
      "The Standard Deviation of the actual data is 263 feet\n",
      " \n",
      "68% of the actual landings are within 1128.79 feet of the end of the runway +/- 263 feet\n",
      "95% of the actual landings should be within 1128.79 feet of the end of the runway +/- 526 feet\n",
      "99.7% of the actual landings should be within 1128.79 feet of the end of the runway +/- 789 feet\n"
     ]
    }
   ],
   "source": [
    "data = np.zeros((27,100)) # creates an array of 27 rows with 100 columns, or 2700 data points\n",
    "for i in range(data.shape[0]):\n",
    "    for j in range(data.shape[1]):\n",
    "        data[i,j] = -376 + mean + (np.random.normal()*(stdev+10))#adjusted the mean and StdDev\n",
    "\n",
    "print(f'The Mean of the actual data is {np.mean(data):.0f} feet')\n",
    "print(f'The Standard Deviation of the actual data is {np.std(data):.0f} feet')\n",
    "print(\" \")\n",
    "print(f'68% of the actual landings are within\\\n",
    " {np.mean(data):.2f} feet of the end of the runway\\\n",
    " +/- {np.std(data):.0f} feet')\n",
    "\n",
    "print(f'95% of the actual landings should be within\\\n",
    " {np.mean(data):.2f} feet of the end of the runway\\\n",
    " +/- {np.std(data*2):.0f} feet')\n",
    "\n",
    "print(f'99.7% of the actual landings should be within\\\n",
    " {np.mean(data):.2f} feet of the end of the runway\\\n",
    " +/- {np.std(data*3):.0f} feet')\n"
   ]
  },
  {
   "cell_type": "markdown",
   "metadata": {},
   "source": [
    "### Now we should overlay our current and actual data set to see how we are doing\n"
   ]
  },
  {
   "cell_type": "code",
   "execution_count": 466,
   "metadata": {},
   "outputs": [
    {
     "data": {
      "text/plain": [
       "<matplotlib.lines.Line2D at 0x1a530f1a10>"
      ]
     },
     "execution_count": 466,
     "metadata": {},
     "output_type": "execute_result"
    },
    {
     "data": {
      "image/png": "[encoded data removed]",
      "text/plain": [
       "<Figure size 864x576 with 1 Axes>"
      ]
     },
     "metadata": {
      "needs_background": "light"
     },
     "output_type": "display_data"
    }
   ],
   "source": [
    "fig, ax = plt.subplots(figsize = (12,8))\n",
    "sns.distplot(touchdown_pts, color = 'blue', kde = False,\n",
    "            hist_kws={\"histtype\": \"step\", \"linewidth\": 1,\"alpha\": .5})\n",
    "\n",
    "sns.distplot(data, color = 'red', kde = False)\n",
    "legends = ['Benchmark Data', 'Real Data']\n",
    "plt.legend(legends)\n",
    "ax.set_title(\" Actual vs Benchmark\")\n",
    "ax.set_xlabel(\"Landing Distances\")\n",
    "ax.set_ylabel(\"Frequency\")\n",
    "plt.axvline(benchmark, color = 'black', linestyle = 'dotted', linewidth = 4)\n",
    "plt.axvline(np.mean(data), color = 'green', linewidth = 4)"
   ]
  },
  {
   "cell_type": "markdown",
   "metadata": {},
   "source": [
    "### In the comparison of distributions we can see that the actual data offsets the benchmark.  Let's take a look to see by how much and attempt to draw conclusions as to why."
   ]
  },
  {
   "cell_type": "code",
   "execution_count": 346,
   "metadata": {},
   "outputs": [
    {
     "name": "stdout",
     "output_type": "stream",
     "text": [
      " The mean of the actual data offsets the mean of the benchmark by 376feet\n"
     ]
    }
   ],
   "source": [
    "print(f' The mean of the actual data offsets the mean of the benchmark by\\\n",
    " {abs(np.mean(data) - np.mean(touchdown_pts)):.0f}feet')"
   ]
  },
  {
   "cell_type": "markdown",
   "metadata": {},
   "source": [
    "### The first measurement of 2,700 landings shows a mean offset of 375 from the benchmark.  This is only one data point.  So before we pull the fire alarm, we need to know if this is a trend.\n",
    "\n",
    "This one off comparison is not a trend but it is a data point that shows that the standard is not being met.  Is this an indication of risk?  It certainly can be and it should be annotated as risk because the circumstances revolving around this may have been overlooked.  If the trend worsens over time then you should address it.  The following comaprison will give more insight.\n",
    "\n",
    "Below we are going to skew our distribution for the next data set and see what effect that has on spotting a trend."
   ]
  },
  {
   "cell_type": "code",
   "execution_count": 471,
   "metadata": {},
   "outputs": [],
   "source": [
    "#choosing parameters for our skewed distribution\n",
    "a, loc, scale = -4, 1224, 175\n",
    "#create 280,000 random variables for our distribution\n",
    "data_2 = stats.skewnorm(a, loc, scale).rvs(2800)"
   ]
  },
  {
   "cell_type": "code",
   "execution_count": 472,
   "metadata": {},
   "outputs": [
    {
     "data": {
      "text/plain": [
       "<matplotlib.lines.Line2D at 0x1a53417150>"
      ]
     },
     "execution_count": 472,
     "metadata": {},
     "output_type": "execute_result"
    },
    {
     "data": {
      "image/png": "[encoded data removed]",
      "text/plain": [
       "<Figure size 864x576 with 1 Axes>"
      ]
     },
     "metadata": {
      "needs_background": "light"
     },
     "output_type": "display_data"
    }
   ],
   "source": [
    "#plotting data set #2\n",
    "fig, ax = plt.subplots(figsize = (12,8))\n",
    "sns.distplot(data_2, color = 'green', kde = False)\n",
    "legends = ['Data_2']\n",
    "plt.legend(legends)\n",
    "ax.set_title(\"Landing Touchdown Point Data Set_2\")\n",
    "ax.set_xlabel(\"Landing Distance\")\n",
    "ax.set_ylabel(\"Frequency\")\n",
    "plt.axvline(np.mean(data_2),linewidth = 4)"
   ]
  },
  {
   "cell_type": "code",
   "execution_count": 473,
   "metadata": {},
   "outputs": [
    {
     "name": "stdout",
     "output_type": "stream",
     "text": [
      "68% of the actual landings are within 1086.74 feet of the end of the runway +/- 108 feet\n",
      "95% of the actual landings should be within 1086.74 feet of the end of the runway +/- 217 feet\n",
      "99.7% of the actual landings should be within 1086.74 feet of the end of the runway +/- 325 feet\n"
     ]
    }
   ],
   "source": [
    "print(f'68% of the actual landings are within\\\n",
    " {np.mean(data_2):.2f} feet of the end of the runway\\\n",
    " +/- {np.std(data_2):.0f} feet')\n",
    "\n",
    "print(f'95% of the actual landings should be within\\\n",
    " {np.mean(data_2):.2f} feet of the end of the runway\\\n",
    " +/- {np.std(data_2*2):.0f} feet')\n",
    "\n",
    "print(f'99.7% of the actual landings should be within\\\n",
    " {np.mean(data_2):.2f} feet of the end of the runway\\\n",
    " +/- {np.std(data_2*3):.0f} feet')"
   ]
  },
  {
   "cell_type": "markdown",
   "metadata": {},
   "source": [
    "### The above distribution shows that there is a skew in our outcomes. \n",
    "\n",
    "The mean of the data has shifted further away from the benchmark and it is skewed to the left.  Lets take a look and see how far."
   ]
  },
  {
   "cell_type": "code",
   "execution_count": 475,
   "metadata": {},
   "outputs": [
    {
     "data": {
      "text/plain": [
       "<matplotlib.legend.Legend at 0x1a53656a90>"
      ]
     },
     "execution_count": 475,
     "metadata": {},
     "output_type": "execute_result"
    },
    {
     "data": {
      "image/png": "[encoded data removed]",
      "text/plain": [
       "<Figure size 864x576 with 1 Axes>"
      ]
     },
     "metadata": {
      "needs_background": "light"
     },
     "output_type": "display_data"
    }
   ],
   "source": [
    "fig, ax = plt.subplots(figsize = (12,8))\n",
    "sns.distplot(touchdown_pts, color = 'blue', kde = False,\n",
    "            hist_kws={\"histtype\": \"stepfilled\", \"linewidth\": 1,\"alpha\": .1})\n",
    "sns.distplot(data, color = 'red', kde = False,\n",
    "            hist_kws={\"histtype\": \"stepfilled\", \"linewidth\": 1,\"alpha\": .1})\n",
    "sns.distplot(data_2, color = 'green', kde = False)\n",
    "plt.axvline(benchmark, color = 'black', linestyle = 'dotted', linewidth = 2)\n",
    "plt.axvline(np.mean(data), color = 'green', linewidth = 2, linestyle = '--' )\n",
    "plt.axvline(np.mean(data_2), color = 'blue', linewidth = 4)\n",
    "ax.set_title(\"Landing Fistance Trend Analysis\")\n",
    "ax.set_xlabel(\"Landing Distance\")\n",
    "ax.set_ylabel(\"Frequency\")\n",
    "legends = ['Benchmark Data', 'Real Data', 'Real Data_2']\n",
    "plt.legend(legends)"
   ]
  },
  {
   "cell_type": "code",
   "execution_count": 474,
   "metadata": {},
   "outputs": [
    {
     "name": "stdout",
     "output_type": "stream",
     "text": [
      " The mean of the actual data offsets the mean of the benchmark by 373feet\n",
      " The mean of the second data set further offsets the mean of the benchmark by an additional 42feet\n"
     ]
    }
   ],
   "source": [
    "print(f' The mean of the actual data offsets the mean of the benchmark by\\\n",
    " {abs(np.mean(data) - np.mean(touchdown_pts)):.0f}feet')\n",
    "print(f' The mean of the second data set further offsets the mean of the benchmark by\\\n",
    " an additional {abs(np.mean(data) - np.mean(data_2)):.0f}feet')\n"
   ]
  },
  {
   "cell_type": "markdown",
   "metadata": {},
   "source": [
    "## We can see above that the trend away from the benchmark distance has increased and is now skewed.\n",
    "\n",
    "With real world data this can be for a number of reasons.  The ideal circumstance would be to investigate why.  The reasoning could be that for a particular runway analysis there has been a highspeed taxi-way that has been closed and the pilots are electing to land shorter to make a closer turn-off.  This in itself is the definition of defined risk and has led to undesried outcomes in the real world.  Once the risk is discovered through statistical analysis you can quickly react to contain it.\n",
    "\n",
    "There are many more variables and analyses that can be added to this python model to assist in evaluating risk."
   ]
  },
  {
   "cell_type": "code",
   "execution_count": null,
   "metadata": {},
   "outputs": [],
   "source": []
  }
 ],
 "metadata": {
  "kernelspec": {
   "display_name": "Python 3",
   "language": "python",
   "name": "python3"
  },
  "language_info": {
   "codemirror_mode": {
    "name": "ipython",
    "version": 3
   },
   "file_extension": ".py",
   "mimetype": "text/x-python",
   "name": "python",
   "nbconvert_exporter": "python",
   "pygments_lexer": "ipython3",
   "version": "3.7.6"
  }
 },
 "nbformat": 4,
 "nbformat_minor": 4
}
